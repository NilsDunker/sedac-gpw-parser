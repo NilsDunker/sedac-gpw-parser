{
 "cells": [
  {
   "cell_type": "code",
   "execution_count": 14,
   "metadata": {},
   "outputs": [
    {
     "name": "stdout",
     "output_type": "stream",
     "text": [
      "0,3 4,6 9,13 15,16\n",
      "4,5 8,11 12,13 14,16 20,22\n",
      "True\n",
      "True\n"
     ]
    }
   ],
   "source": [
    "import numpy as np                                                                                                                                    \n",
    "\n",
    "a = [0,1,2,4,5,9,10,11,12,15]                                                                                                                         \n",
    "b = [4, 8,9,10,12,14,15,20,21]\n",
    "\n",
    "def create_ranges(array):\n",
    "    \n",
    "    mask = np.diff(array) != 1\n",
    "    upper_bounds = np.array(array[:-1])[mask]                                                                                                                \n",
    "    lower_bounds = np.array(array[1:])[mask]                                                                                                                 \n",
    "    lower_bounds = np.append(np.min(array), lower_bounds)                                                                                                                   \n",
    "    upper_bounds = np.append(upper_bounds, np.max(array)) + 1                                                                                                               \n",
    "    \n",
    "    assert len(lower_bounds) == len(upper_bounds)\n",
    "    \n",
    "    outstring = \"\"\n",
    "    for lower_bound, upper_bound in zip(lower_bounds, upper_bounds):\n",
    "        outstring += str(lower_bound) + \",\" + str(upper_bound) + \" \"\n",
    "    \n",
    "    outstring = outstring[:-1]\n",
    "    \n",
    "    return outstring\n",
    "\n",
    "\n",
    "def resolve_ranges(ranges):\n",
    "    \n",
    "    ranges = ranges.split(\" \")\n",
    "    \n",
    "    resolved_range = []\n",
    "    \n",
    "    for one_range in ranges:\n",
    "        lower_bound, upper_bound = one_range.split(\",\")\n",
    "        for _ in range(int(lower_bound), int(upper_bound)):\n",
    "            resolved_range.append(_)\n",
    "            \n",
    "    return resolved_range\n",
    "\n",
    "print(create_ranges(a))\n",
    "print(create_ranges(b))\n",
    "\n",
    "range_a = create_ranges(a)\n",
    "resolved_a = resolve_ranges(range_a)\n",
    "\n",
    "print(resolved_a == a)\n",
    "\n",
    "range_b = create_ranges(b)\n",
    "resolved_b = resolve_ranges(range_b)\n",
    "\n",
    "print(resolved_b == b)"
   ]
  },
  {
   "cell_type": "code",
   "execution_count": null,
   "metadata": {},
   "outputs": [],
   "source": []
  }
 ],
 "metadata": {
  "kernelspec": {
   "display_name": "Python 3",
   "language": "python",
   "name": "python3"
  },
  "language_info": {
   "codemirror_mode": {
    "name": "ipython",
    "version": 3
   },
   "file_extension": ".py",
   "mimetype": "text/x-python",
   "name": "python",
   "nbconvert_exporter": "python",
   "pygments_lexer": "ipython3",
   "version": "3.6.8"
  }
 },
 "nbformat": 4,
 "nbformat_minor": 2
}
